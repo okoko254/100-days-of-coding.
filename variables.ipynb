{
 "cells": [
  {
   "cell_type": "code",
   "execution_count": 1,
   "id": "9a424c25-10a4-4de3-9bb2-a59e7cbd2caf",
   "metadata": {},
   "outputs": [
    {
     "ename": "SyntaxError",
     "evalue": "invalid syntax (1564100847.py, line 1)",
     "output_type": "error",
     "traceback": [
      "\u001b[1;36m  Cell \u001b[1;32mIn[1], line 1\u001b[1;36m\u001b[0m\n\u001b[1;33m    break=5\u001b[0m\n\u001b[1;37m         ^\u001b[0m\n\u001b[1;31mSyntaxError\u001b[0m\u001b[1;31m:\u001b[0m invalid syntax\n"
     ]
    }
   ],
   "source": [
    "break=5\n",
    "print(break)\n",
    "#this code will have a syntax error because break is a keyword. "
   ]
  },
  {
   "cell_type": "code",
   "execution_count": 3,
   "id": "a1c981a2-7774-4b26-a07c-0c7f7abb16f9",
   "metadata": {},
   "outputs": [
    {
     "name": "stdout",
     "output_type": "stream",
     "text": [
      "20\n"
     ]
    }
   ],
   "source": [
    "birth_year=2004\n",
    "current_year=2024\n",
    "age=current_year-birth_year\n",
    "print(age)"
   ]
  },
  {
   "cell_type": "code",
   "execution_count": 5,
   "id": "263ce535-1865-4183-9638-d4b9f461f25c",
   "metadata": {},
   "outputs": [
    {
     "name": "stdout",
     "output_type": "stream",
     "text": [
      "Lenida Lenny Daniels\n"
     ]
    }
   ],
   "source": [
    "first_name=\"Lenida\"\n",
    "middle_name=\"Lenny\"\n",
    "last_name=\"Daniels\"\n",
    "full_name=first_name+\" \"+middle_name+\" \"+last_name\n",
    "print(full_name)\n"
   ]
  },
  {
   "cell_type": "code",
   "execution_count": null,
   "id": "9762e9c3-b98a-4261-9f2f-cd26c56bc717",
   "metadata": {},
   "outputs": [],
   "source": [
    "#-nation 1record is an invalid variable because it has a white space\n",
    "#record-one is an invalid variable because it has a hyphen\n",
    "#record^one is invalid because of ^\n",
    "#continue is invalid because it is a keyword\n",
    "#record1 is valid\n",
    "#record_one is valid"
   ]
  }
 ],
 "metadata": {
  "kernelspec": {
   "display_name": "Python 3 (ipykernel)",
   "language": "python",
   "name": "python3"
  },
  "language_info": {
   "codemirror_mode": {
    "name": "ipython",
    "version": 3
   },
   "file_extension": ".py",
   "mimetype": "text/x-python",
   "name": "python",
   "nbconvert_exporter": "python",
   "pygments_lexer": "ipython3",
   "version": "3.12.4"
  }
 },
 "nbformat": 4,
 "nbformat_minor": 5
}
