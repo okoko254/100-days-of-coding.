{
 "cells": [
  {
   "cell_type": "code",
   "execution_count": 17,
   "id": "3148b621-0793-46f6-857b-3a9d36d0458e",
   "metadata": {},
   "outputs": [
    {
     "name": "stdout",
     "output_type": "stream",
     "text": [
      "area: 4489.599999999999\n"
     ]
    }
   ],
   "source": [
    "l=92\n",
    "w=48.8\n",
    "area=l*w\n",
    "print(\"area:\",area)"
   ]
  },
  {
   "cell_type": "code",
   "execution_count": 9,
   "id": "715a918b-ab66-4fa3-91c0-07b07583944a",
   "metadata": {},
   "outputs": [
    {
     "name": "stdout",
     "output_type": "stream",
     "text": [
      "balance: 6.59\n"
     ]
    }
   ],
   "source": [
    "pkts=9\n",
    "pkt_cost=1.49\n",
    "money_given=20\n",
    "total_cost=pkts*pkt_cost\n",
    "balance=money_given-total_cost\n",
    "print(\"balance:\",balance)"
   ]
  },
  {
   "cell_type": "code",
   "execution_count": 15,
   "id": "79a0e54a-e285-45f5-9e0a-0fb4b79bdc5b",
   "metadata": {},
   "outputs": [
    {
     "name": "stdout",
     "output_type": "stream",
     "text": [
      "total_cost: 15125.0\n"
     ]
    }
   ],
   "source": [
    "l=5.5\n",
    "sq_area=5.5**2\n",
    "cost_per_sq=500\n",
    "total_cost=cost_per_sq*sq_area\n",
    "print(\"total_cost:\",total_cost)"
   ]
  },
  {
   "cell_type": "code",
   "execution_count": null,
   "id": "4daf3578-c282-4c15-b32a-621e652ed82e",
   "metadata": {},
   "outputs": [],
   "source": []
  }
 ],
 "metadata": {
  "kernelspec": {
   "display_name": "Python 3 (ipykernel)",
   "language": "python",
   "name": "python3"
  },
  "language_info": {
   "codemirror_mode": {
    "name": "ipython",
    "version": 3
   },
   "file_extension": ".py",
   "mimetype": "text/x-python",
   "name": "python",
   "nbconvert_exporter": "python",
   "pygments_lexer": "ipython3",
   "version": "3.12.4"
  }
 },
 "nbformat": 4,
 "nbformat_minor": 5
}
