{
 "cells": [
  {
   "cell_type": "code",
   "execution_count": 1,
   "id": "8941a9bd-3204-47c6-8c81-139ab310698a",
   "metadata": {},
   "outputs": [
    {
     "name": "stdout",
     "output_type": "stream",
     "text": [
      "revolves\n"
     ]
    }
   ],
   "source": [
    "text=\"Earth revolves around the sun\"\n",
    "print(text[6:14])"
   ]
  },
  {
   "cell_type": "code",
   "execution_count": 3,
   "id": "09d94689-3ac4-4543-8978-682d17150b64",
   "metadata": {},
   "outputs": [
    {
     "name": "stdout",
     "output_type": "stream",
     "text": [
      " sun\n"
     ]
    }
   ],
   "source": [
    "print(text[-4:])"
   ]
  },
  {
   "cell_type": "code",
   "execution_count": 1,
   "id": "871fee0c-1419-4e8f-8d18-33ffe7d2e41b",
   "metadata": {},
   "outputs": [
    {
     "name": "stdout",
     "output_type": "stream",
     "text": [
      "two lines: maine 10 samosa khaye\n",
      "one line: maine 10 samosa khaye\n"
     ]
    }
   ],
   "source": [
    "s='maine 200 banana khaye'\n",
    "s=s.replace('200','10')\n",
    "s=s.replace('banana','samosa')#using two lines\n",
    "s=s.replace('banana','samosa').replace('200','10')#one line\n",
    "print(\"two lines:\",s)\n",
    "print(\"one line:\",s)\n"
   ]
  },
  {
   "cell_type": "code",
   "execution_count": 37,
   "id": "cfc30c8e-08e3-4a5c-acb5-dc5954a21658",
   "metadata": {},
   "outputs": [
    {
     "name": "stdout",
     "output_type": "stream",
     "text": [
      "maine 10 samosa khaye\n"
     ]
    }
   ],
   "source": [
    "s = 'maine 200 banana khaye'\n",
    "new_s = s[:6] + '10' +\" \"+ 'samosa'+\" \"+ s[17:]\n",
    "print(new_s)\n"
   ]
  },
  {
   "cell_type": "code",
   "execution_count": 65,
   "id": "42e8f539-74ea-45a5-b722-15cc75aa1536",
   "metadata": {},
   "outputs": [
    {
     "name": "stdout",
     "output_type": "stream",
     "text": [
      "using + operator\n",
      " Tom Mboya\n",
      "Nairobi\n",
      "Kenya \n",
      "\n",
      "using f-string\n",
      " Tom Mboya\n",
      "Nairobi\n",
      "Kenya\n"
     ]
    }
   ],
   "source": [
    "street=\"Tom Mboya\"\n",
    "city=\"Nairobi\"\n",
    "country=\"Kenya\"\n",
    "address=street+'\\n'+city+'\\n'+country# using + operator\n",
    "address=f'{street}\\n{city}\\n{country}'\n",
    "print(\"using + operator\"'\\n',address,'\\n')\n",
    "\n",
    "print(\"using f-string\"'\\n',address)"
   ]
  },
  {
   "cell_type": "code",
   "execution_count": 71,
   "id": "fc282ba0-c3ab-4d3c-80d4-4dcac7bea92e",
   "metadata": {},
   "outputs": [
    {
     "name": "stdout",
     "output_type": "stream",
     "text": [
      "i eat 3 fruits and 2 vegetables daily\n"
     ]
    }
   ],
   "source": [
    "x=3\n",
    "y=2\n",
    "text=f'i eat {x} fruits and {y} vegetables daily'\n",
    "print(text)"
   ]
  },
  {
   "cell_type": "code",
   "execution_count": null,
   "id": "1bd26aa8-0fb1-44f4-935d-c153f2487228",
   "metadata": {},
   "outputs": [],
   "source": []
  }
 ],
 "metadata": {
  "kernelspec": {
   "display_name": "Python 3 (ipykernel)",
   "language": "python",
   "name": "python3"
  },
  "language_info": {
   "codemirror_mode": {
    "name": "ipython",
    "version": 3
   },
   "file_extension": ".py",
   "mimetype": "text/x-python",
   "name": "python",
   "nbconvert_exporter": "python",
   "pygments_lexer": "ipython3",
   "version": "3.12.4"
  }
 },
 "nbformat": 4,
 "nbformat_minor": 5
}
