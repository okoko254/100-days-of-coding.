{
 "cells": [
  {
   "cell_type": "markdown",
   "id": "5fdfe07d-dd31-415f-beb2-b5fdf5e4d5d7",
   "metadata": {},
   "source": [
    "#NumPy Tutorial"
   ]
  },
  {
   "cell_type": "markdown",
   "id": "23c5d96d-fe60-4cbb-85ff-ae65c42904d5",
   "metadata": {},
   "source": [
    "#NumPy Creating Arrays"
   ]
  },
  {
   "cell_type": "code",
   "execution_count": 105,
   "id": "5f6d822d-0340-4446-a0a5-053555125712",
   "metadata": {},
   "outputs": [
    {
     "name": "stdout",
     "output_type": "stream",
     "text": [
      "display: [1 2 3 4 5]\n",
      "type of dimension: 1\n",
      "indexing: 5\n",
      "negative indexing: 4\n",
      "slicing without start: [1 2 3]\n",
      "slicing without end: [4 5]\n",
      "slicing with start and end: [1 2 3 4]\n",
      "slicing using negative: [1 2 3]\n"
     ]
    }
   ],
   "source": [
    "import numpy as np\n",
    "a=np.array([1,2,3,4,5])#1-D dimension\n",
    "print(\"display:\",a)#display the array\n",
    "print(\"type of dimension:\",a.ndim)#display the type of dimension\n",
    "print(\"indexing:\",a[4])#indexing\n",
    "print(\"negative indexing:\",a[-2])#negative indexing\n",
    "print(\"slicing without start:\",a[:3])\n",
    "print(\"slicing without end:\",a[3:])\n",
    "print(\"slicing with start and end:\",a[0:4])\n",
    "print(\"slicing using negative:\",a[-5:-2])\n"
   ]
  },
  {
   "cell_type": "code",
   "execution_count": 172,
   "id": "0fddef10-19e7-4e88-ae60-2a693c50657a",
   "metadata": {},
   "outputs": [
    {
     "name": "stdout",
     "output_type": "stream",
     "text": [
      "display: [[1 2 6]\n",
      " [3 4 8]]\n",
      "type of dimension: 2\n",
      "indexing: 4\n",
      "negative indexing: 2\n",
      "slicing: [6 8]\n",
      "slicing: [[2 6]\n",
      " [4 8]]\n"
     ]
    }
   ],
   "source": [
    "b=np.array([[1,2,6],[3,4,8]])#2-D dimension\n",
    "print(\"display:\",b)#display an array\n",
    "print(\"type of dimension:\",b.ndim)#type of dimension\n",
    "print(\"indexing:\",b[1,1])#indexing\n",
    "print(\"negative indexing:\",b[-2,-2])#negative indexing\n",
    "print(\"slicing:\",b[0:2,2])\n",
    "print(\"slicing:\",b[0:,1:])"
   ]
  },
  {
   "cell_type": "code",
   "execution_count": 174,
   "id": "8d738a81-364f-4641-b48d-bae3b538f7a1",
   "metadata": {},
   "outputs": [
    {
     "name": "stdout",
     "output_type": "stream",
     "text": [
      "display: [[[1 2]\n",
      "  [3 4]]\n",
      "\n",
      " [[5 6]\n",
      "  [7 8]]]\n",
      "type of dimension: 3\n",
      "indexing: 4\n",
      "negative indexing: 8\n"
     ]
    }
   ],
   "source": [
    "c=np.array([[[1,2],[3,4]],[[5,6],[7,8]]])#3-D dimension\n",
    "print(\"display:\",c)#display an array\n",
    "print(\"type of dimension:\",c.ndim)#type of dimension\n",
    "print(\"indexing:\",c[0,1,1])#indexing\n",
    "print(\"negative indexing:\",c[-1,-1,-1])#negative indexing\n"
   ]
  },
  {
   "cell_type": "code",
   "execution_count": 155,
   "id": "c68a5c83-76ca-4794-ad23-76019d6c0cf5",
   "metadata": {},
   "outputs": [
    {
     "name": "stdout",
     "output_type": "stream",
     "text": [
      "display: 21\n",
      "type of dimension 0\n"
     ]
    }
   ],
   "source": [
    "d=np.array(21)#0-D dimension\n",
    "print(\"display:\",d)#display an array\n",
    "print(\"type of dimension\",d.ndim)#type of dimension\n",
    "#no indexing in 0-D dimension"
   ]
  },
  {
   "cell_type": "code",
   "execution_count": null,
   "id": "0859ed23-506e-492b-a9aa-39f25806143a",
   "metadata": {},
   "outputs": [],
   "source": []
  },
  {
   "cell_type": "code",
   "execution_count": null,
   "id": "860c42f0-b5ec-4bd5-9fa2-aa890ca35191",
   "metadata": {},
   "outputs": [],
   "source": []
  }
 ],
 "metadata": {
  "kernelspec": {
   "display_name": "Python 3 (ipykernel)",
   "language": "python",
   "name": "python3"
  },
  "language_info": {
   "codemirror_mode": {
    "name": "ipython",
    "version": 3
   },
   "file_extension": ".py",
   "mimetype": "text/x-python",
   "name": "python",
   "nbconvert_exporter": "python",
   "pygments_lexer": "ipython3",
   "version": "3.12.4"
  }
 },
 "nbformat": 4,
 "nbformat_minor": 5
}
