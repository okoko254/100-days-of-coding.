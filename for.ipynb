{
 "cells": [
  {
   "cell_type": "code",
   "execution_count": 7,
   "id": "58382a32-88e9-479f-9277-3ecfc4ad9209",
   "metadata": {},
   "outputs": [
    {
     "name": "stdout",
     "output_type": "stream",
     "text": [
      "1\n",
      "2\n",
      "3\n",
      "4\n",
      "5\n",
      "6\n",
      "7\n",
      "8\n",
      "9\n",
      "10\n"
     ]
    }
   ],
   "source": [
    "for i in range(1,11):\n",
    "   print(i)"
   ]
  },
  {
   "cell_type": "code",
   "execution_count": null,
   "id": "6283cf19",
   "metadata": {},
   "outputs": [],
   "source": []
  },
  {
   "cell_type": "code",
   "execution_count": 71,
   "id": "c28daf34-c889-4bc5-a98e-64988a0ee98d",
   "metadata": {},
   "outputs": [
    {
     "name": "stdout",
     "output_type": "stream",
     "text": [
      "1\n",
      "4\n",
      "9\n",
      "16\n",
      "25\n",
      "36\n",
      "49\n",
      "64\n",
      "81\n",
      "100\n"
     ]
    }
   ],
   "source": [
    "for i in range(1,11):\n",
    "   print(i*i)"
   ]
  },
  {
   "cell_type": "code",
   "execution_count": 21,
   "id": "b9781bbf-ae75-4957-b602-026fae9626ba",
   "metadata": {},
   "outputs": [
    {
     "name": "stdout",
     "output_type": "stream",
     "text": [
      "month: 1 Expense: 2000\n",
      "month: 2 Expense: 4000\n",
      "month: 3 Expense: 3500\n",
      "month: 4 Expense: 3000\n"
     ]
    }
   ],
   "source": [
    "exp= [\"2000\",\"4000\",\"3500\",\"3000\"]\n",
    "total=0\n",
    "for i in range(len(exp)):\n",
    "    print('month:',(i+1),'Expense:',exp[i])\n",
    "    total=total+int(exp[i])\n",
    "    \n"
   ]
  },
  {
   "cell_type": "code",
   "execution_count": 34,
   "id": "07028a65-756b-4f81-b7f9-d0e97c85a630",
   "metadata": {},
   "outputs": [
    {
     "name": "stdout",
     "output_type": "stream",
     "text": [
      "300\n",
      "400\n",
      "500\n"
     ]
    }
   ],
   "source": [
    "total=0\n",
    "price=['300','400','500','200']\n",
    "for i in range(0,3):\n",
    "    print(price[i])"
   ]
  },
  {
   "cell_type": "code",
   "execution_count": 56,
   "id": "605e0e18-f550-4169-a6fb-83026c8792f4",
   "metadata": {},
   "outputs": [
    {
     "name": "stdout",
     "output_type": "stream",
     "text": [
      "item: 1 price: 300\n",
      "total price is: 300\n",
      "item: 2 price: 400\n",
      "total price is: 700\n",
      "item: 3 price: 500\n",
      "total price is: 1200\n",
      "item: 4 price: 200\n",
      "total price is: 1400\n"
     ]
    }
   ],
   "source": [
    "total=0\n",
    "price=['300','400','500','200']\n",
    "for i in range(len(price)):\n",
    "    print(\"item:\",i+1,\"price:\",price[i])\n",
    "    total=total+int(price[i])\n",
    "    \n",
    "    print('total price is:',total)"
   ]
  },
  {
   "cell_type": "code",
   "execution_count": 75,
   "id": "036ee0d1-edd3-4479-bb7b-322c815e4cf9",
   "metadata": {},
   "outputs": [
    {
     "name": "stdout",
     "output_type": "stream",
     "text": [
      "key is not found in car\n",
      "key is not found in garden\n",
      "key is not found in bed\n",
      "key is found in table\n",
      "key is not found in balcon\n"
     ]
    }
   ],
   "source": [
    "key_location=\"table\"\n",
    "locations=[\"car\",\"garden\",\"bed\",\"table\",\"balcon\"]\n",
    "for i in locations:\n",
    "    if i==key_location:\n",
    "        print(\"key is found in\",i)\n",
    "        continue\n",
    "        \n",
    "    else:\n",
    "        print(\"key is not found in\",i)"
   ]
  },
  {
   "cell_type": "code",
   "execution_count": 77,
   "id": "a97d697d-9720-420f-b7b5-b1cc9c00d4d7",
   "metadata": {},
   "outputs": [
    {
     "name": "stdout",
     "output_type": "stream",
     "text": [
      "key is not found in car\n",
      "key is not found in garden\n",
      "key is not found in bed\n",
      "key is found in table\n"
     ]
    }
   ],
   "source": [
    "key_location=\"table\"\n",
    "locations=[\"car\",\"garden\",\"bed\",\"table\",\"balcon\"]\n",
    "for i in locations:\n",
    "    if i==key_location:\n",
    "        print(\"key is found in\",i)\n",
    "        break\n",
    "    else:\n",
    "        print(\"key is not found in\",i)"
   ]
  },
  {
   "cell_type": "code",
   "execution_count": null,
   "id": "a1cd4600-c10a-45a1-8b5a-d974fbd0b384",
   "metadata": {},
   "outputs": [],
   "source": []
  },
  {
   "cell_type": "code",
   "execution_count": 127,
   "id": "cdea121e-2ed9-4c01-839b-920c7a6bb094",
   "metadata": {},
   "outputs": [
    {
     "name": "stdout",
     "output_type": "stream",
     "text": [
      "4\n",
      "16\n",
      "36\n",
      "64\n",
      "100\n"
     ]
    }
   ],
   "source": [
    "for i in range(1,11):\n",
    "    if i%2==0:\n",
    "         print(i*i)#only even numbers will be printed\n",
    "         continue #odd numbers will be skipped\n",
    "       "
   ]
  },
  {
   "cell_type": "markdown",
   "id": "6abccff9-0bc6-4fd0-b383-f4f2361e8027",
   "metadata": {},
   "source": [
    "for i in range(1,11):\n",
    "    if i%2==0:\n",
    "     continue\n",
    "    print(i*i)\n",
    "         "
   ]
  },
  {
   "cell_type": "code",
   "execution_count": 141,
   "id": "5eadd72e-b8c5-4ef7-b2b5-191c9dfb49ae",
   "metadata": {},
   "outputs": [],
   "source": [
    "for i in range(1,11):\n",
    "    if i%2==0:\n",
    "     continue\n",
    "     print(i*i)#this line is inside the if block,it won't be executed"
   ]
  },
  {
   "cell_type": "code",
   "execution_count": 135,
   "id": "3e9292f1-db21-4045-b0de-2e2ee3b66c47",
   "metadata": {},
   "outputs": [
    {
     "name": "stdout",
     "output_type": "stream",
     "text": [
      "1\n",
      "2\n",
      "3\n",
      "4\n",
      "5\n"
     ]
    }
   ],
   "source": [
    "i=1\n",
    "while i<=5:\n",
    "    print(i)\n",
    "    i=i+1"
   ]
  },
  {
   "cell_type": "code",
   "execution_count": 137,
   "id": "52b2eaaa-8083-4205-8f70-6a1ac5721491",
   "metadata": {},
   "outputs": [
    {
     "name": "stdout",
     "output_type": "stream",
     "text": [
      "4\n",
      "16\n",
      "36\n",
      "64\n",
      "100\n"
     ]
    }
   ],
   "source": [
    "for i in range(1,11):\n",
    "    if i%2==0:\n",
    "         print(i*i)#only even numbers will be printed\n",
    "         continue #odd numbers will be skipped"
   ]
  },
  {
   "cell_type": "code",
   "execution_count": 150,
   "id": "1d35a549-f734-40fe-9b4b-6da7910049f3",
   "metadata": {},
   "outputs": [
    {
     "name": "stdout",
     "output_type": "stream",
     "text": [
      "1\n",
      "2\n",
      "3\n",
      "4\n",
      "5\n"
     ]
    }
   ],
   "source": [
    "i=1\n",
    "while(i<=5):\n",
    " print(i)\n",
    " i=i+1"
   ]
  }
 ],
 "metadata": {
  "kernelspec": {
   "display_name": "Python 3 (ipykernel)",
   "language": "python",
   "name": "python3"
  },
  "language_info": {
   "codemirror_mode": {
    "name": "ipython",
    "version": 3
   },
   "file_extension": ".py",
   "mimetype": "text/x-python",
   "name": "python",
   "nbconvert_exporter": "python",
   "pygments_lexer": "ipython3",
   "version": "3.12.4"
  }
 },
 "nbformat": 4,
 "nbformat_minor": 5
}
